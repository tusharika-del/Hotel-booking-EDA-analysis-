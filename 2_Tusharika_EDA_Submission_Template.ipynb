{
  "nbformat": 4,
  "nbformat_minor": 0,
  "metadata": {
    "colab": {
      "private_outputs": true,
      "provenance": [],
      "collapsed_sections": [
        "Y3lxredqlCYt",
        "gCFgpxoyphqP",
        "OVtJsKN_phqQ",
        "lssrdh5qphqQ",
        "U2RJ9gkRphqQ",
        "1M8mcRywphqQ",
        "tgIPom80phqQ",
        "JMzcOPDDphqR",
        "x-EpHcCOp1ci",
        "X_VqEhTip1ck",
        "8zGJKyg5p1ck",
        "PVzmfK_Ep1ck",
        "n3dbpmDWp1ck",
        "ylSl6qgtp1ck",
        "ZWILFDl5p1ck",
        "M7G43BXep1ck",
        "Ag9LCva-p1cl",
        "E6MkPsBcp1cl",
        "2cELzS2fp1cl",
        "3MPXvC8up1cl",
        "UV0SzAkaZNRQ",
        "YPEH6qLeZNRQ",
        "EXh0U9oCveiU",
        "gIfDvo9L0UH2"
      ],
      "toc_visible": true,
      "include_colab_link": true
    },
    "kernelspec": {
      "name": "python3",
      "display_name": "Python 3"
    },
    "language_info": {
      "name": "python"
    }
  },
  "cells": [
    {
      "cell_type": "markdown",
      "metadata": {
        "id": "view-in-github",
        "colab_type": "text"
      },
      "source": [
        "<a href=\"https://colab.research.google.com/github/tusharika-del/Hotel-booking-EDA-analysis-/blob/main/2_Tusharika_EDA_Submission_Template.ipynb\" target=\"_parent\"><img src=\"https://colab.research.google.com/assets/colab-badge.svg\" alt=\"Open In Colab\"/></a>"
      ]
    },
    {
      "cell_type": "markdown",
      "source": [],
      "metadata": {
        "id": "5Y7CACDE7vBv"
      }
    },
    {
      "cell_type": "markdown",
      "source": [
        "# **Project Name**    - Hotel Booking Analysis - Resorts and City Hotels\n",
        "\n"
      ],
      "metadata": {
        "id": "vncDsAP0Gaoa"
      }
    },
    {
      "cell_type": "markdown",
      "source": [
        "##### **Project Type**    - EDA- Exploratory Data Analysis\n",
        "##### **Contribution**    - Individual\n",
        "##### **Team Member 1 -**.  Tusharika Singh\n",
        "##### **Team Member 2 -**\n",
        "##### **Team Member 3 -**\n",
        "##### **Team Member 4 -**"
      ],
      "metadata": {
        "id": "beRrZCGUAJYm"
      }
    },
    {
      "cell_type": "markdown",
      "source": [
        "# **Project Summary -**\n",
        "The business of hotel works with two hands - one is the customer and other the owner.In between many other stakeholders comes who provides various facilitation to both ends and work towards main visualization of \"why the hotel exist and whether needs and demands of customers getting fulfilled in the angina of hotel existence or beyond that\".\n",
        "\n",
        "To run the business, visualization and to satisfy customer: hotel business requires ecosystem, infrastructure, material, people to monetary benefits.\n",
        "\n",
        "Here customer is one who intend to visit hotel for personal or professional purpose and pays charges for it directly or indirectly.\n",
        "\n",
        "In line with above understanding - in the project, analysis is carried out to estimate and predict the hotel bookings based on booking data. The analysis likes to predict best time of year booking , optimal length of stay , time of high special booking etc.\n",
        "\n",
        "Some of the above details helps customers, and others are required by hotel business owners -to have better way of handling the business - to lure more customers and to have business running life beyond life.\n",
        "\n",
        "In this project,python is used for exploratory data analysis - in which hotel booking details is utilized as raw input data. Various libraries and in build functions like numpsy and pandas are utilized to get above analysis where numpsy deals more with numeric logic and pandas with data.\n",
        "\n",
        "\n",
        "\n",
        "\n",
        "\n",
        "\n",
        "\n",
        "\n",
        "\n",
        "\n",
        "\n",
        "\n",
        "\n",
        "\n",
        "\n",
        "\n",
        "\n",
        "\n",
        "\n",
        "\n",
        "\n",
        "\n",
        "\n",
        "\n",
        "\n",
        "\n",
        "\n",
        "\n",
        "\n",
        "\n",
        "\n",
        "\n",
        "\n",
        "\n",
        "\n",
        "\n",
        "\n"
      ],
      "metadata": {
        "id": "FJNUwmbgGyua"
      }
    },
    {
      "cell_type": "markdown",
      "source": [
        "Write the summary here within 500-600 words."
      ],
      "metadata": {
        "id": "F6v_1wHtG2nS"
      }
    },
    {
      "cell_type": "markdown",
      "source": [
        "# **GitHub Link -**"
      ],
      "metadata": {
        "id": "w6K7xa23Elo4"
      }
    },
    {
      "cell_type": "markdown",
      "source": [
        "[link text](https://)Provide your GitHub Link here."
      ],
      "metadata": {
        "id": "h1o69JH3Eqqn"
      }
    },
    {
      "cell_type": "markdown",
      "source": [
        "# **Problem Statement**\n"
      ],
      "metadata": {
        "id": "yQaldy8SH6Dl"
      }
    },
    {
      "cell_type": "markdown",
      "source": [
        "**Write Problem Statement Here.**\n",
        "The main problem here is\n",
        "(1) Customer wants to get best daily rate for optimal stay\n",
        "(2) Customer wants to know best time in year to stay in hotel with this best rate or other\n",
        "(3) Business wants to know future special bookings of customers\n",
        "\n"
      ],
      "metadata": {
        "id": "DpeJGUA3kjGy"
      }
    },
    {
      "cell_type": "markdown",
      "source": [
        "#### **Define Your Business Objective?**"
      ],
      "metadata": {
        "id": "PH-0ReGfmX4f"
      }
    },
    {
      "cell_type": "markdown",
      "source": [
        "For customer query/delimma(Future stay and time related) :  \n",
        "To analyze data and to get some or all relevant details that can resolve and answer customer queries related to rate and best time to visit in year\n",
        "\n",
        "For business query/delima( Future special bookings related):\n",
        "To analyze data and get factors that creates and affects special  bookings of customers .\n",
        "\n",
        "\n",
        "\n"
      ],
      "metadata": {
        "id": "PhDvGCAqmjP1"
      }
    },
    {
      "cell_type": "markdown",
      "source": [
        "# **General Guidelines** : -  "
      ],
      "metadata": {
        "id": "mDgbUHAGgjLW"
      }
    },
    {
      "cell_type": "markdown",
      "source": [
        "1.   Well-structured, formatted, and commented code is required.\n",
        "2.   Exception Handling, Production Grade Code & Deployment Ready Code will be a plus. Those students will be awarded some additional credits.\n",
        "     \n",
        "     The additional credits will have advantages over other students during Star Student selection.\n",
        "       \n",
        "             [ Note: - Deployment Ready Code is defined as, the whole .ipynb notebook should be executable in one go\n",
        "                       without a single error logged. ]\n",
        "\n",
        "3.   Each and every logic should have proper comments.\n",
        "4. You may add as many number of charts you want. Make Sure for each and every chart the following format should be answered.\n",
        "        \n",
        "\n",
        "```\n",
        "# Chart visualization code\n",
        "```\n",
        "            \n",
        "\n",
        "*   Why did you pick the specific chart?\n",
        "*   What is/are the insight(s) found from the chart?\n",
        "* Will the gained insights help creating a positive business impact?\n",
        "Are there any insights that lead to negative growth? Justify with specific reason.\n",
        "\n",
        "5. You have to create at least 20 logical & meaningful charts having important insights.\n",
        "\n",
        "\n",
        "[ Hints : - Do the Vizualization in  a structured way while following \"UBM\" Rule.\n",
        "\n",
        "U - Univariate Analysis,\n",
        "\n",
        "B - Bivariate Analysis (Numerical - Categorical, Numerical - Numerical, Categorical - Categorical)\n",
        "\n",
        "M - Multivariate Analysis\n",
        " ]\n",
        "\n",
        "\n",
        "\n"
      ],
      "metadata": {
        "id": "ZrxVaUj-hHfC"
      }
    },
    {
      "cell_type": "markdown",
      "source": [
        "# ***Let's Begin !***"
      ],
      "metadata": {
        "id": "O_i_v8NEhb9l"
      }
    },
    {
      "cell_type": "markdown",
      "source": [
        "## ***1. Know Your Data***"
      ],
      "metadata": {
        "id": "HhfV-JJviCcP"
      }
    },
    {
      "cell_type": "markdown",
      "source": [
        "### Import Libraries"
      ],
      "metadata": {
        "id": "Y3lxredqlCYt"
      }
    },
    {
      "cell_type": "code",
      "source": [
        "# Important details : Here data_file and data_frame name two datasets or can be considered\n",
        "#dimensional lists are created to store one data from hotel csv and later its mapped transfer for project utilisation\n",
        "\n",
        "# Various libraries are imported to carry out functionalities e.g. pandas for datasets, matplotlib for graph and plot\n",
        "# missingno for finding missing data and numpy for numerical calculations.\n",
        "\n",
        "# Import Libraries\n",
        "import pandas as pd\n",
        "import matplotlib.pyplot as plt\n",
        "import missingno as msno\n",
        "import numpy as np\n",
        "\n",
        "# Read the CSV file into a DataFrame\n",
        "data_file = pd.read_csv(\"https://drive.usercontent.google.com/download?id=1C9AxF9fcVzMw0Bgs0NaRrNML2WwX1Ehm&export=download&authuser=1\")\n",
        "\n",
        "print(data_file)\n",
        "\n",
        "# Access data in the DataFrame using column names or indexing\n",
        "#data_frame = []\n",
        "#data_frame = data_file\n",
        "data_frame =data_file\n",
        "print(data_frame)\n",
        "\n",
        "from google.colab import drive\n",
        "drive.mount('/content/drive')\n",
        "\n",
        "\n"
      ],
      "metadata": {
        "id": "M8Vqi-pPk-HR"
      },
      "execution_count": null,
      "outputs": []
    },
    {
      "cell_type": "markdown",
      "source": [
        "### Dataset Loading"
      ],
      "metadata": {
        "id": "3RnN4peoiCZX"
      }
    },
    {
      "cell_type": "code",
      "source": [
        "# Load\n",
        "# Important details = Hear it is showcased how data cane be loaded from one dimensional place to another\n",
        "\n",
        "view_utilisation = data_frame"
      ],
      "metadata": {
        "id": "4CkvbW_SlZ_R"
      },
      "execution_count": null,
      "outputs": []
    },
    {
      "cell_type": "markdown",
      "source": [
        "### Dataset First View"
      ],
      "metadata": {
        "id": "x71ZqKXriCWQ"
      }
    },
    {
      "cell_type": "code",
      "source": [
        "# Important details : Here top few rows , last few rows and number of rows and columns details\n",
        "# along with columns details have been extracted to provide lookover\n",
        "\n",
        "# Dataset First Look\n",
        "# Print the first five rows of the DataFrame\n",
        "print(data_frame.head())\n",
        "\n",
        "# Print the last five rows of the DataFrame\n",
        "print(data_frame.tail())\n",
        "\n",
        "# Print the number of rows and columns in the DataFrame\n",
        "print(f\"Number of rows: {data_frame.shape[0]}\")\n",
        "print(f\"Number of columns: {data_frame.shape[1]}\")\n",
        "\n",
        "# Print the names of the columns in the DataFrame\n",
        "print(data_frame.columns.tolist())\n",
        "\n",
        "# Print the data types of each column in the DataFrame\n",
        "#print(data_frame.dtypes)\n",
        "#plt.hist(data_frame[\"lead_time\"], bins=10)\n",
        "#plt.xlabel(\"Days Gap Between Booking and Arrival\")\n",
        "#plt.ylabel(\"how many times days gap occured\")\n",
        "##plt.show()"
      ],
      "metadata": {
        "id": "LWNFOSvLl09H"
      },
      "execution_count": null,
      "outputs": []
    },
    {
      "cell_type": "markdown",
      "source": [
        "### Dataset Rows & Columns count"
      ],
      "metadata": {
        "id": "7hBIi_osiCS2"
      }
    },
    {
      "cell_type": "code",
      "source": [
        "#Important Details: Here it is showcased how number of rows and columns can be extracted\n",
        "\n",
        "# Dataset Rows & Columns count\n",
        "num_rows = data_frame.shape[0]\n",
        "num_cols = data_frame.shape[1]\n",
        "\n",
        "\n",
        "print(data_frame.shape)\n",
        "\n",
        "# Print the results\n",
        "print(f\"Number of rows: {num_rows}\")\n",
        "print(f\"Number of columns: {num_cols}\")"
      ],
      "metadata": {
        "id": "Kllu7SJgmLij"
      },
      "execution_count": null,
      "outputs": []
    },
    {
      "cell_type": "markdown",
      "source": [
        "### Dataset Information"
      ],
      "metadata": {
        "id": "JlHwYmJAmNHm"
      }
    },
    {
      "cell_type": "code",
      "source": [
        "# Important details : Here information( column, values null or not null,datatype)\n",
        "#of hotel details which was stored in data_frame for project\n",
        "#purchase is extracted and shown\n",
        "\n",
        "# Dataset Info\n",
        "data_frame.info()"
      ],
      "metadata": {
        "id": "e9hRXRi6meOf"
      },
      "execution_count": null,
      "outputs": []
    },
    {
      "cell_type": "markdown",
      "source": [
        "#### Duplicate Values"
      ],
      "metadata": {
        "id": "35m5QtbWiB9F"
      }
    },
    {
      "cell_type": "code",
      "source": [
        "#Important information : Here duplicates removed and with duplicates\n",
        "#means with same values repeating columns details is showcased\n",
        "\n",
        "# Dataset Duplicate Value Count\n",
        "data_frame_without_duplicates = data_frame.drop_duplicates()\n",
        "data_frame_with_duplicates = data_frame[data_frame.duplicated(keep=False)]\n",
        "\n",
        "# Print the shape of the new DataFrame\n",
        "print(f\"Shape of DataFrame without duplicates: {data_frame_without_duplicates.shape}\")\n",
        "print(f\"Shape of DataFrame  duplicates: {data_frame_with_duplicates.shape}\")"
      ],
      "metadata": {
        "id": "58zwd4UcYSdX"
      },
      "execution_count": null,
      "outputs": []
    },
    {
      "cell_type": "markdown",
      "source": [
        "#### Missing Values/Null Values"
      ],
      "metadata": {
        "id": "PoPl-ycgm1ru"
      }
    },
    {
      "cell_type": "code",
      "source": [
        "#Improtant details : Here  missing values/Null values have been found\n",
        "# from the hotel data along with getting its columns details\n",
        "\n",
        "\n",
        "# Missing Values/Null Values Count\n",
        "# Count the number of missing values in each column\n",
        "missing_values_count = data_frame.isnull().sum()\n",
        "\n",
        "# Print the number of missing values for each column\n",
        "print(missing_values_count)\n",
        "# Get the column names of the DataFrame\n",
        "column_names = data_file.columns\n",
        "\n",
        "\n"
      ],
      "metadata": {
        "id": "GgHWkxvamxVg"
      },
      "execution_count": null,
      "outputs": []
    },
    {
      "cell_type": "markdown",
      "source": [
        "### What did you know about your dataset?"
      ],
      "metadata": {
        "id": "H0kj-8xxnORC"
      }
    },
    {
      "cell_type": "markdown",
      "source": [
        "Dataset is a temporary location to store data. To store data to permanment location data dictionaries can be utilized from where it can be transferred to floppy or disk. Most data get stored in rows and column and can include numericals data to categorical data to boolean data\n",
        "\n",
        "Here two variables Data_file and Data_frame had been created to store the data which act as dataset"
      ],
      "metadata": {
        "id": "gfoNAAC-nUe_"
      }
    },
    {
      "cell_type": "markdown",
      "source": [
        "## ***2. Understanding Your Variables***"
      ],
      "metadata": {
        "id": "nA9Y7ga8ng1Z"
      }
    },
    {
      "cell_type": "code",
      "source": [
        "# Important details : Missing values have been\n",
        "#plotted to know the count and to know peaks\n",
        "# Visualizing the missing values\n",
        "\n",
        "# Create the line plot\n",
        "missing_values_count.plot()\n",
        "#plt.scatter (column_names, missing_values_count)\n",
        "#data_frame.plot(kind='scatter')\n",
        "df = pd.DataFrame(missing_values_count)\n",
        "#print(df)\n",
        "df.plot()\n"
      ],
      "metadata": {
        "id": "3q5wnI3om9sJ"
      },
      "execution_count": null,
      "outputs": []
    },
    {
      "cell_type": "code",
      "source": [
        "#Important details : To get column details dataset and its columns\n",
        "# have been called\n",
        "# Dataset Columns\n",
        "data_file.columns\n",
        "data_frame.columns"
      ],
      "metadata": {
        "id": "j7xfkqrt5Ag5"
      },
      "execution_count": null,
      "outputs": []
    },
    {
      "cell_type": "code",
      "source": [
        "#Important details : To get statistical details of data describe\n",
        "# function is used. It leads to  know mean,median, mode. 50% can be\n",
        "# considered median and 75 % to max mode with maximum frequency\n",
        "\n",
        "# Dataset Describe\n",
        "data_frame.describe()\n",
        "\n"
      ],
      "metadata": {
        "id": "DnOaZdaE5Q5t"
      },
      "execution_count": null,
      "outputs": []
    },
    {
      "cell_type": "markdown",
      "source": [
        "### Variables Description"
      ],
      "metadata": {
        "id": "PBTbrJXOngz2"
      }
    },
    {
      "cell_type": "markdown",
      "source": [
        "\n",
        "There are 32 columns in the data and same when get imported to a dataset are its columnar named variables.\n",
        "\n",
        "Out of 32 variables:\n",
        "As per above couting integer variables are 16, object variables are 12 and float varaibles are 4 .\n",
        "\n",
        "Variable is_canceled having mean value of .37 which means approx 37% time bookings were canceled\n",
        "\n",
        "varaible lead_time having mean value of 104 and max value of 737 means; in average customers visited hotel or resort post 104 days of booking and max time lapse over booking and visiting was 737 days.\n",
        "\n",
        "Based on other variables arrival_date_year\tarrival_date_week_number\tarrival_date_day_of_month\tstays_in_weekend_nights\tstays_in_week_nights ; on average customers visited in 2016 stayed in weekend nights for less than 1 day and spend approx 3 days in weekdays night and last year of visit was 2017. 27th of the week was choosen for the stay\n",
        "\n",
        "Varaiable adults tells on an average 2 adults visited within these years,\n",
        "repeated guest were less than 0.03% as per s_repeated_guest varaiable.\n",
        "\n",
        "\n",
        "Previous_bookings_not_canceled tells average booking cancelation were less than 1 and max was26 while previous_bookings_not_canceled tells not cancelled bookings means either confirmed bookings or bookings with other issues were also less than 1 with max such bookings 72.\n",
        "\n",
        "booking_changes tells changed bookings were also less than 1 and max was 21.\n",
        "\n",
        "agent variable tells agent based booking on average was 87 and max was 535 within these years.\n",
        "\n",
        "company variable tells company based booking bookings on an average were  189 and max bookings were 543.\n",
        "  \n",
        "On an average with days_in_waiting_list it gets depicted that on average customer have to wait for 2 days to get the booking confirmed and max 291 days.\n",
        "\n",
        "adr\n",
        "\n",
        "On an average based on required_car_parking_spaces no one required parking, however on max 8 people required parking.\n",
        "\n",
        "total_of_special_requests on average was 0 and max was 5\n",
        "\n",
        "\n",
        "\n",
        "\n"
      ],
      "metadata": {
        "id": "aJV4KIxSnxay"
      }
    },
    {
      "cell_type": "markdown",
      "source": [
        "### Check Unique Values for each variable."
      ],
      "metadata": {
        "id": "u3PMJOP6ngxN"
      }
    },
    {
      "cell_type": "code",
      "source": [
        "# Important details : To get details of unique values which\n",
        "# each column holds for all the records\n",
        "# Check Unique Values for each variable.\n",
        "data_frame.info()\n",
        "data_frame_without_duplicates.plot()\n",
        "plt.xlabel (\"No of booking records\")\n",
        "plt.ylabel(\"Numeric values in each column\")\n",
        "plt.title(\"Unique records plot\")\n",
        "\n",
        "for column in data_frame.columns:\n",
        "    unique_values = data_frame[column].unique()\n",
        "    print(f\"Unique values for column '{column}': {unique_values}\")\n"
      ],
      "metadata": {
        "id": "zms12Yq5n-jE"
      },
      "execution_count": null,
      "outputs": []
    },
    {
      "cell_type": "markdown",
      "source": [
        "## 3. ***Data Wrangling***"
      ],
      "metadata": {
        "id": "dauF4eBmngu3"
      }
    },
    {
      "cell_type": "markdown",
      "source": [
        "### Data Wrangling Code"
      ],
      "metadata": {
        "id": "bKJF3rekwFvQ"
      }
    },
    {
      "cell_type": "code",
      "source": [
        "# Important Details:Here most data is analysed further using\n",
        "# data without duplicates and customer to business problem solution\n",
        "# is presented\n",
        "\n",
        "# Write your code to make your dataset analysis ready.\n",
        "# Here, based on the analysis above, column judgment is done.\n",
        "# Based on the problem statement, the business intent is derived.\n",
        "# To solve it:\n",
        "pass  # Replace this line with your actual code\n",
        "# Data wrangling is done.\n",
        "\n",
        "\n",
        "#stays_in_weekend_nights\tstays_in_week_nights\n",
        "#print(data_frame_without_duplicates)\n",
        "descriptive_stats_r1= data_frame_without_duplicates.info()\n",
        "print(descriptive_stats_r1)\n",
        "\n",
        "\n",
        "#descriptive_stats_r1.describe()\n",
        "\n"
      ],
      "metadata": {
        "id": "wk-9a2fpoLcV"
      },
      "execution_count": null,
      "outputs": []
    },
    {
      "cell_type": "code",
      "source": [
        "# Important description: This step done to solve /respond\n",
        "# to customer query related to best stay time based rate\n",
        "\n",
        "# To get relevant columns and values which can determine best daily rate (more stay, less price)\n",
        "stay_determined =data_frame_without_duplicates.get (['stays_in_weekend_nights','stays_in_week_nights','adr' ])\n",
        "print (stay_determined)\n",
        "stay_determined.describe()"
      ],
      "metadata": {
        "id": "_m7u5Z8sO9WR"
      },
      "execution_count": null,
      "outputs": []
    },
    {
      "cell_type": "code",
      "source": [
        "#Important description: This step is done to solve/respond\n",
        "# to cusotmer query related to date information\n",
        "# To get relevant columns and values which determines best time to stay (day,year,month)\n",
        "\n",
        "date_determined = data_frame_without_duplicates.get (['arrival_date_year', 'arrival_date_month', 'arrival_date_day_of_month'])\n",
        "print(date_determined)\n",
        "date_determined.describe()"
      ],
      "metadata": {
        "id": "i27ZVd6HPEiH"
      },
      "execution_count": null,
      "outputs": []
    },
    {
      "cell_type": "code",
      "source": [
        "#Important information: Here special request details are analyzed to solve\n",
        "#business query/issue\n",
        "\n",
        "# To get get relevant column and values which\n",
        "#determines future special bookings of customers\n",
        "special_request = data_frame_without_duplicates.get (['arrival_date_day_of_month','total_of_special_requests'])\n",
        "print(special_request)\n",
        "special_request.describe()"
      ],
      "metadata": {
        "id": "PhiaavT_PLxM"
      },
      "execution_count": null,
      "outputs": []
    },
    {
      "cell_type": "markdown",
      "source": [
        "### What all manipulations have you done and insights you found?"
      ],
      "metadata": {
        "id": "MSa1f5Uengrz"
      }
    },
    {
      "cell_type": "markdown",
      "source": [
        "Here I carried out data asignment and data selection to get relevant insight and statistics of count, deviation, mean, min and max which helps to deduce and resolve customer queries, business queries and get possible answers.\n",
        "\n",
        "From first selection, only no duplicate data is selected and stored for further processing and utilisation to get insights.\n",
        "\n",
        "Customer problems:\n",
        "First problem was to get best daily rate for optimal stay.\n",
        "Insight: With optimal parameter as 50% average deviated mean - best daily rate is 98.1 to have weekend night stay of 1 days or weekdays night stay of 2 day.\n",
        "\n",
        "Second problem was to get best time in year to stay in hotel.\n",
        "Insight: With optimal parameter as 50% average deviated mean - best date is 16th of a month.\n",
        "\n",
        "\n",
        "Business problems:\n",
        "The only problem was to get whether special bookings will bw there or not in future\n",
        "Insight:With optimal parameter as 50% average deviated mean - there wont be any special bookings based on past trend. However, in case arrival date of month is 31st, special bookings can be max of 5\n",
        "\n",
        "\n",
        "\n",
        "\n",
        "\n"
      ],
      "metadata": {
        "id": "LbyXE7I1olp8"
      }
    },
    {
      "cell_type": "markdown",
      "source": [
        "## ***4. Data Vizualization, Storytelling & Experimenting with charts : Understand the relationships between variables***"
      ],
      "metadata": {
        "id": "GF8Ens_Soomf"
      }
    },
    {
      "cell_type": "markdown",
      "source": [
        "#### Chart - 1"
      ],
      "metadata": {
        "id": "0wOQAZs5pc--"
      }
    },
    {
      "cell_type": "code",
      "source": [
        "# Important information:\n",
        "# In any hotel first thing in running hotel is who booked\n",
        "#what and whether booking successful or not\n",
        "# for that multivariate analysis is done here using columns\n",
        "#hotel, reservation status and reservation status dates\n",
        "\n",
        "\n",
        "# Chart - 1 visualization code\n",
        "# Import the Counter class from the collections module\n",
        "from collections import Counter\n",
        "import matplotlib.pyplot as plt\n",
        "\n",
        "# Extract the hotel and reservation status columns from the DataFrame\n",
        "hotel_bookings = data_frame_without_duplicates[['hotel', 'reservation_status','reservation_status_date']]\n",
        "\n",
        "# Group the data by hotel and count the number of reservations for each hotel\n",
        "hotel_bookings_grouped = hotel_bookings.groupby('hotel')['reservation_status'].count()\n",
        "hotel_bookings_grouped_status = hotel_bookings.groupby('reservation_status')['reservation_status_date'].count()\n",
        "#hotel_bookings_grouped_hd= hotel_bookings.groupby('hotel')['reservation_status_date'].count()\n",
        "# Create a bar plot of the hotel booking counts\n",
        "plt.bar(hotel_bookings_grouped.index, hotel_bookings_grouped.values)\n",
        "plt.xlabel(\"Hotel\")\n",
        "plt.ylabel(\"Number of Reservations\")\n",
        "plt.title(\"Hotel Booking Counts\")\n",
        "plt.show()\n",
        "\n",
        "print(hotel_bookings_grouped)\n",
        "\n",
        "# Create a bar plot of the booking status count\n",
        "plt.plot(hotel_bookings_grouped_status.index, hotel_bookings_grouped_status.values)\n",
        "plt.xlabel(\"status of booking\")\n",
        "plt.ylabel(\"Number of Reservations\")\n",
        "plt.title(\"Hotel Booking status and reservation count\")\n",
        "plt.show()\n",
        "\n",
        "print(hotel_bookings_grouped_status)\n",
        "\n",
        "# Create a bar plot of the booking status with dates booking counts\n",
        "#plt.bar(hotel_bookings_grouped_hd.index, hotel_bookings_grouped_hd.values)\n",
        "#plt.xlabel(\"status of booking\")\n",
        "#plt.ylabel(\"Number of Reservations\")\n",
        "#plt.title(\"Hotel Booking status and reservation count\")\n",
        "#plt.show()\n",
        "\n",
        "#print(hotel_bookings_grouped_hd)\n",
        "\n",
        "\n"
      ],
      "metadata": {
        "id": "7v_ESjsspbW7"
      },
      "execution_count": null,
      "outputs": []
    },
    {
      "cell_type": "markdown",
      "source": [
        "##### 1. Why did you pick the specific chart?"
      ],
      "metadata": {
        "id": "K5QZ13OEpz2H"
      }
    },
    {
      "cell_type": "markdown",
      "source": [
        "I wished to get categorical insight of data so utilised bar graph with different groupby statement to get grouped way total data count.\n",
        "Line graph and bar graph have been utilized\n",
        "\n"
      ],
      "metadata": {
        "id": "XESiWehPqBRc"
      }
    },
    {
      "cell_type": "markdown",
      "source": [
        "##### 2. What is/are the insight(s) found from the chart?"
      ],
      "metadata": {
        "id": "lQ7QKXXCp7Bj"
      }
    },
    {
      "cell_type": "markdown",
      "source": [
        "It is very much clear that customers here had option to choose from two categories of stays hotel stays and resort stays and more number of bookings were done for city hotels than resorts.\n",
        "\n",
        "Although bookings were done by customers but later on bookings were canceled also and some never turned up to visit the booked place.\n",
        "Overall cancelations were more than no shows i.e. not turning up and having booking intact.In total, maximum people turned up i.e. visited the resort or hotel.\n",
        "\n"
      ],
      "metadata": {
        "id": "C_j1G7yiqdRP"
      }
    },
    {
      "cell_type": "markdown",
      "source": [
        "##### 3. Will the gained insights help creating a positive business impact?\n",
        "Are there any insights that lead to negative growth? Justify with specific reason."
      ],
      "metadata": {
        "id": "448CDAPjqfQr"
      }
    },
    {
      "cell_type": "markdown",
      "source": [
        "The insight is first view which lets to know which place were booked by how many and whether bookings were fruitful or not.\n",
        "\n",
        "Yes, it creates business impact as in case places ( resort, hotel) are showing zero booking count means no one ever looked to book or know of these places and business has no future until it is resolved.\n",
        "\n",
        "Also in case all bookings went to cancelation or no show that too is sad for business as in one case business cant survive ever and in other case (no show) busienss cant show its facilitation and services to customers"
      ],
      "metadata": {
        "id": "3cspy4FjqxJW"
      }
    },
    {
      "cell_type": "markdown",
      "source": [
        "#### Chart - 2"
      ],
      "metadata": {
        "id": "KSlN3yHqYklG"
      }
    },
    {
      "cell_type": "code",
      "source": [
        "#Important description : one of the thing can be know whether\n",
        "#hotel is running based repeat customers or different\n",
        "# segmental client based. Here analysis is done on same\n",
        "\n",
        "# Import the Counter class from the collections module\n",
        "from collections import Counter\n",
        "import matplotlib.pyplot as plt\n",
        "\n",
        "# To know weather repeat customers were high or low and adr\n",
        "\n",
        "# Extract the hotel and reservation status columns from the DataFrame\n",
        "hotel_b_repeat = data_frame_without_duplicates.groupby('is_repeated_guest')['adr'].mean()\n",
        "\n",
        "hotel_b_repeat_count = data_frame_without_duplicates.groupby('is_repeated_guest')['adr'].count()\n",
        "\n",
        "\n",
        "# Plot the data as a histogram\n",
        "plt.plot(hotel_b_repeat_count)\n",
        "plt.xlabel(\"Repeat Guest\")\n",
        "plt.ylabel(\"Total number of customers \")\n",
        "plt.title(\"Total number of repeat and non repeat customers \")\n",
        "plt.show()\n",
        "\n",
        "print(hotel_b_repeat_count)\n",
        "\n",
        "# Use the correct variable for the x-axis data\n",
        "plt.scatter(hotel_b_repeat.index, hotel_b_repeat.values)\n",
        "plt.xlabel(\"Repeat Guest\")\n",
        "plt.ylabel(\"Mean Average Daily Rate (ADR)\")\n",
        "plt.title(\"Daily rate for repeat guest\")\n",
        "plt.show()\n",
        "\n",
        "print(hotel_b_repeat)\n",
        "\n"
      ],
      "metadata": {
        "id": "R4YgtaqtYklH"
      },
      "execution_count": null,
      "outputs": []
    },
    {
      "cell_type": "markdown",
      "source": [
        "##### 1. Why did you pick the specific chart?"
      ],
      "metadata": {
        "id": "t6dVpIINYklI"
      }
    },
    {
      "cell_type": "markdown",
      "source": [
        "Most of time, post customer is known -*rate* of booking comes into picture and pays cruitical role in determining bookings\n",
        "\n",
        "Here scatter plot and line graph is utilised to show rates relation and trend.\n",
        "\n",
        "To show relationship between two variables number of repeat guests and number of average daily rate scatter plot is utilised.\n",
        "\n",
        "To show trend of average daily rate for repeat and non repeat customer line graph plot is utilised\n",
        "\n",
        "\n",
        "\n"
      ],
      "metadata": {
        "id": "5aaW0BYyYklI"
      }
    },
    {
      "cell_type": "markdown",
      "source": [
        "##### 2. What is/are the insight(s) found from the chart?"
      ],
      "metadata": {
        "id": "ijmpgYnKYklI"
      }
    },
    {
      "cell_type": "markdown",
      "source": [
        "Overall total repeat customers called here as repeat guest were less than the new overall customers. This leads to depict that business is more with wide range of new customers than same repeat customers.\n",
        "\n",
        "out of 80,000+ customers, repeat customers were less than 1000.\n",
        "\n",
        "Also, mean average daily rate was less for\n",
        "repeat customers, it was less than 50 and too less than average overall mean ADR which means paying too less rate for stay.\n"
      ],
      "metadata": {
        "id": "PSx9atu2YklI"
      }
    },
    {
      "cell_type": "code",
      "source": [],
      "metadata": {
        "id": "MruG1y-wMunW"
      },
      "execution_count": null,
      "outputs": []
    },
    {
      "cell_type": "markdown",
      "source": [
        "##### 3. Will the gained insights help creating a positive business impact?\n",
        "Are there any insights that lead to negative growth? Justify with specific reason."
      ],
      "metadata": {
        "id": "-JiQyfWJYklI"
      }
    },
    {
      "cell_type": "markdown",
      "source": [
        "The positive business impact is only till customers keep booking above mean average ADR.\n",
        "\n",
        "Here most past customers were like that.\n",
        "\n",
        "However, in case business strategy changes to lure more repeat customers with same less rate, business will have negative growth where business will require to think over other methodologies to have positive growth with other rates to be earned and included."
      ],
      "metadata": {
        "id": "BcBbebzrYklV"
      }
    },
    {
      "cell_type": "markdown",
      "source": [
        "#### Chart - 3"
      ],
      "metadata": {
        "id": "EM7whBJCYoAo"
      }
    },
    {
      "cell_type": "code",
      "source": [
        "#Important description: To know which kind of customers booked in which\n",
        "# count analysis is done here using line and box plot\n",
        "\n",
        "# Chart - 3 visualization code\n",
        "\n",
        "# To know who got booked when\n",
        "# Import the Counter class from the collections module\n",
        "from collections import Counter\n",
        "import matplotlib.pyplot as plt\n",
        "\n",
        "# Dataset Duplicate Value Count\n",
        "data_frame_without_duplicates = data_frame.drop_duplicates()\n",
        "import matplotlib.pyplot as plt\n",
        "data_customer = data_frame_without_duplicates [[ \"adults\", \"children\", \"babies\"]]\n",
        "print(data_customer)\n",
        "\n",
        "#customer_grown = data_frame_without_duplicates.groupby('is_canceled')['babies'].mean()\n",
        "#print(customer_grown)\n",
        "\n",
        "data_customer.plot()\n",
        "plt.title(\"Trend of customer booking\")\n",
        "plt.xlabel(\"Total bookings\")\n",
        "plt.ylabel(\"Total customers\")\n",
        "\n",
        "data_customer.plot(kind=\"box\")\n",
        "\n",
        "# Add title and labels\n",
        "plt.title(\"Boxplots of Customer bookings and people type\")\n",
        "plt.xlabel(\"Bookings\")\n",
        "plt.ylabel(\"No of customer\")\n",
        "\n",
        "# Show the plot\n",
        "plt.show()\n",
        "\n",
        "# Plot the data as a pie chart\n",
        "#data_customer.plot(kind='pie', y='adults')\n",
        "#plt.title(\"Distribution of Adults\")\n",
        "#plt.show()\n",
        "\n",
        "# Repeat the same for other columns\n",
        "#data_customer.plot(kind='pie', y='children')\n",
        "#plt.title(\"Distribution of Children\")\n",
        "#plt.show()\n",
        "\n",
        "#data_customer.plot(kind='pie', y='babies')\n",
        "#plt.title(\"Distribution of Babies\")\n",
        "#plt.show()\n",
        "\n",
        "\n"
      ],
      "metadata": {
        "id": "t6GMdE67YoAp"
      },
      "execution_count": null,
      "outputs": []
    },
    {
      "cell_type": "markdown",
      "source": [
        "##### 1. Why did you pick the specific chart?"
      ],
      "metadata": {
        "id": "fge-S5ZAYoAp"
      }
    },
    {
      "cell_type": "markdown",
      "source": [
        "Line graph is picked to show the trend and box plot to show distribution of variable with outliers.\n",
        "\n",
        "how many bookings total_customer did is outshown and analysed\n",
        "\n"
      ],
      "metadata": {
        "id": "5dBItgRVYoAp"
      }
    },
    {
      "cell_type": "markdown",
      "source": [
        "##### 2. What is/are the insight(s) found from the chart?"
      ],
      "metadata": {
        "id": "85gYPyotYoAp"
      }
    },
    {
      "cell_type": "markdown",
      "source": [
        "Out of around,120000 on average 0 to 1 babies were ever booked for stay,  however when bookings were inbetween 40,000 to 80,000 around 8 to 10 babies were booked for stay.\n",
        "\n",
        "On average 0 to 2 children ever booked for stay, however when there were no bookings 10 childrens were booked\n",
        "\n",
        "on an average 2 to 3 adults ever booked for stay, however when there was no initial bookings in peak 50 and more adults booked in one go and same spike never occured again.\n",
        "\n",
        "Based on box plot, adults bookings were constant over range0 to 7 and many outliers existed ( exceptions ) over range 20 to 50 + count.\n",
        "\n",
        "For children constant range was 0 to 2 while exceptionally 10 got booked one or the other time.\n",
        "\n",
        "For babies constant was no babies to 1 somewhere, however 2 times 10 babies got booked in one go.\n",
        "\n"
      ],
      "metadata": {
        "id": "4jstXR6OYoAp"
      }
    },
    {
      "cell_type": "markdown",
      "source": [
        "##### 3. Will the gained insights help creating a positive business impact?\n",
        "Are there any insights that lead to negative growth? Justify with specific reason."
      ],
      "metadata": {
        "id": "RoGjAbkUYoAp"
      }
    },
    {
      "cell_type": "markdown",
      "source": [
        "It is hard to guess negative and postivie growth with above trend, however it is clear that most stays were of adults. Future can be there to attract families, with children and babies for stays"
      ],
      "metadata": {
        "id": "zfJ8IqMcYoAp"
      }
    },
    {
      "cell_type": "markdown",
      "source": [
        "#### Chart - 4\n",
        "## New section"
      ],
      "metadata": {
        "id": "4Of9eVA-YrdM"
      }
    },
    {
      "cell_type": "code",
      "source": [
        "# Important description: To know best booking range that is fruitful\n",
        "#and can determine when to book bivariate analysis is carried out\n",
        "\n",
        "# Chart - 4 visualization code\n",
        "\n",
        "# To analyse ratio of lead time and is_cancelled\n",
        "# Accessing existing columns\n",
        "data_lead_time = data_frame_without_duplicates[\"lead_time\"]\n",
        "data_is_cancelled = data_frame_without_duplicates[\"is_canceled\"]\n",
        "\n",
        "# Creating a new column\n",
        "data_frame_without_duplicates[\"lead_time_divided_by_is_canceled\"] = data_frame_without_duplicates[\"lead_time\"] / data_frame_without_duplicates[\"is_canceled\"]\n",
        "\n",
        "data_lead_customer = data_frame_without_duplicates[\"lead_time_divided_by_is_canceled\"]\n",
        "print (\"data_lead_customer\")\n",
        "data_lead_customer.plot()\n",
        "\n",
        "# Add title and labels\n",
        "plt.title(\"Scatter Plot of Successful Total bookings vs. Lead time \")\n",
        "plt.xlabel(\"Total bookings\")\n",
        "plt.ylabel(\"Lead time\")\n"
      ],
      "metadata": {
        "id": "irlUoxc8YrdO"
      },
      "execution_count": null,
      "outputs": []
    },
    {
      "cell_type": "code",
      "source": [
        "# Important description: To know best booking range that is fruitful\n",
        "#and can determine which diversity to book\n",
        "# bivariate analysis is carried out\n",
        "\n",
        "# Create a pie chart for each column in the data_lead_customer DataFrame\n",
        "# Create a scatter plot of lead time vs. is_canceled\n",
        "plt.scatter(data_lead_time, data_is_cancelled)\n",
        "\n",
        "# Add title and labels\n",
        "plt.title(\"Scatter Plot of Lead Time vs. Cancellation\")\n",
        "plt.xlabel(\"Lead Time\")\n",
        "plt.ylabel(\"Is Canceled\")\n",
        "\n",
        "# Show the plot\n",
        "plt.show()\n",
        "#print(data_lead_customer)"
      ],
      "metadata": {
        "id": "9v3HeTObC6yZ"
      },
      "execution_count": null,
      "outputs": []
    },
    {
      "cell_type": "code",
      "source": [
        "#Important Description : The below analysis is done to rewind back\n",
        "#whether booking were cancelled or succesful\n",
        "# - univariate analysis is done\n",
        "\n",
        "\n",
        "# Create a pie chart of the is_canceled column\n",
        "data_frame_without_duplicates[\"is_canceled\"].value_counts().plot(kind=\"pie\", autopct=\"%1.1f%%\")\n",
        "\n",
        "# Add title and labels\n",
        "plt.title(\"Pie Chart of Cancellation Status\")\n",
        "plt.ylabel(\"Count\")\n",
        "\n",
        "# Show the plot\n",
        "plt.show()\n"
      ],
      "metadata": {
        "id": "I070S3RxC6mn"
      },
      "execution_count": null,
      "outputs": []
    },
    {
      "cell_type": "markdown",
      "source": [
        "Line graph has been choosen to known trend of bookings with respect to time gap of bookings done\n",
        "scatter plot is used to know how cancellation and lead time are related.\n",
        "\n",
        "Total cancelations are direclty judged through pie chart"
      ],
      "metadata": {
        "id": "iky9q4vBYrdO"
      }
    },
    {
      "cell_type": "markdown",
      "source": [],
      "metadata": {
        "id": "aJRCwT6DYrdO"
      }
    },
    {
      "cell_type": "markdown",
      "source": [
        "##### 2. What is/are the insight(s) found from the chart?"
      ],
      "metadata": {
        "id": "F6T5p64dYrdO"
      }
    },
    {
      "cell_type": "markdown",
      "source": [
        "Out of overall bookings, sucessful bookings happened when bookings are in between 0 to\n",
        "20,0000 and 40,000 to 80,000. This can be considered as good luck time or number of booking range for business. In this average prior booking days were around 480 to 620\n",
        "\n",
        "Also with scatter plot, it can be judged that sucessful bookings ( cancelation as zero) occured for most lead time less than 500 and lucky 4 times it was for lead time ( prior booking) of 500 to 550 days.\n",
        "\n",
        "Exceptionally 2 bookings were successful with lead time of 700 and more.\n",
        "\n",
        "Also, most of the cancelations were contineous in nature with lead time ranging from 0 to 680 around.\n"
      ],
      "metadata": {
        "id": "Xx8WAJvtYrdO"
      }
    },
    {
      "cell_type": "markdown",
      "source": [
        "Postive busienss impact can be there by getting new segment within lead time range of 500 to 550 days.\n",
        "\n",
        "Also now cancelations should be considered part of regular business\n",
        "\n",
        "Also, it is good to remember that total bookings were more than cancelations by around 20%"
      ],
      "metadata": {
        "id": "y-Ehk30pYrdP"
      }
    },
    {
      "cell_type": "markdown",
      "source": [],
      "metadata": {
        "id": "jLNxxz7MYrdP"
      }
    },
    {
      "cell_type": "markdown",
      "source": [
        "#### Chart - 5"
      ],
      "metadata": {
        "id": "bamQiAODYuh1"
      }
    },
    {
      "cell_type": "code",
      "source": [
        "# Important Description: To know which market segment booked\n",
        "#multivariate analysis is done ans pie chart is utlisied\n",
        "\n",
        "# Chart - 5 visualization code\n",
        "\n",
        "#To know which all countries, market segment and distribution channels are invovled in these hotel booking\n",
        "#and how stays are related\n",
        "booking_arena = data_frame_without_duplicates [[ \"country\", \"market_segment\", \"distribution_channel\"]]\n",
        "print(booking_arena)\n",
        "\n",
        "#booking_arena.plot()\n",
        "\n",
        "\n",
        "# Create a bar chart of the number of bookings for each country\n",
        "booking_arena[\"country\"].value_counts().plot(kind=\"pie\",autopct=\"%1.1f%%\")\n",
        "\n",
        "# Add title and labels\n",
        "plt.title(\"Number of Bookings by Country\")\n",
        "plt.xlabel(\"Country\")\n",
        "plt.ylabel(\"Number of Bookings\")\n",
        "\n",
        "# Show the plot\n",
        "plt.show()\n",
        "\n",
        "\n",
        "\n",
        "\n",
        "\n",
        "\n"
      ],
      "metadata": {
        "id": "TIJwrbroYuh3"
      },
      "execution_count": null,
      "outputs": []
    },
    {
      "cell_type": "code",
      "source": [
        "# Add title and labels\n",
        "# Important description: To know bookings by distribution channel\n",
        "\n",
        "# Create a bar chart of the number of bookings for each distribution channel\n",
        "booking_arena[\"distribution_channel\"].value_counts().plot(kind=\"bar\")\n",
        "plt.title(\"Number of Bookings by Distribution Channel\")\n",
        "plt.xlabel(\"Distribution Channel\")\n",
        "plt.ylabel(\"Number of Bookings\")\n",
        "\n",
        "# Show the plot\n",
        "plt.show()\n",
        "\n",
        "\n",
        "# Create a bar chart of the number of bookings for each market segment\n",
        "booking_arena[\"market_segment\"].value_counts().plot(kind=\"bar\")\n",
        "\n",
        "# Add title and labels\n",
        "plt.title(\"Number of Bookings by Market Segment\")\n",
        "plt.xlabel(\"Market Segment\")\n",
        "plt.ylabel(\"Number of Bookings\")\n",
        "\n",
        "\n",
        "\n",
        "# Show the plot\n",
        "plt.show()\n",
        "\n",
        "print(booking_arena)"
      ],
      "metadata": {
        "id": "LSU3JSsiWnqS"
      },
      "execution_count": null,
      "outputs": []
    },
    {
      "cell_type": "markdown",
      "source": [
        "##### 1. Why did you pick the specific chart?"
      ],
      "metadata": {
        "id": "QHF8YVU7Yuh3"
      }
    },
    {
      "cell_type": "markdown",
      "source": [
        "PIE chart is used to get details of countries and proportion of booking done by them"
      ],
      "metadata": {
        "id": "dcxuIMRPYuh3"
      }
    },
    {
      "cell_type": "markdown",
      "source": [
        "##### 2. What is/are the insight(s) found from the chart?"
      ],
      "metadata": {
        "id": "GwzvFGzlYuh3"
      }
    },
    {
      "cell_type": "markdown",
      "source": [
        "Maximum booking(approx 31.6%) happened from PRT country. GBR, FRA, ESP were the next top countires with 12%, 10.3%, 8.2%.\n",
        "\n",
        "With respect to market segment maximum bookings were from TA/TO distribution channel. and of TA TO online booking customers. The number exceeded  60,000 out of total 87396\n",
        "\n",
        "\n"
      ],
      "metadata": {
        "id": "uyqkiB8YYuh3"
      }
    },
    {
      "cell_type": "markdown",
      "source": [
        "In no so to happen condition in case bookings get canceled from above mentioned top countires business will suffer drastically"
      ],
      "metadata": {
        "id": "qYpmQ266Yuh3"
      }
    },
    {
      "cell_type": "markdown",
      "source": [
        "Answer Here"
      ],
      "metadata": {
        "id": "_WtzZ_hCYuh4"
      }
    },
    {
      "cell_type": "markdown",
      "source": [],
      "metadata": {
        "id": "0EGtOulsBbB5"
      }
    },
    {
      "cell_type": "markdown",
      "source": [
        "#### Chart - 6"
      ],
      "metadata": {
        "id": "OH-pJp9IphqM"
      }
    },
    {
      "cell_type": "code",
      "source": [
        "# Chart - 6 visualization code\n",
        "#Impotant description: To know relation between cancelation, meal\n",
        "#and deposits to analyse which combined segment is fruitful\n",
        "\n",
        "# To know how customer paid for confirmed and cancelation bookings\n",
        "#payment_type = data_frame_without_duplicates.loc[:, [\"deposit_type\", \"meal\"]]\n",
        "#payment_type.hist()\n",
        "\n",
        "# Extract text columns\n",
        "deposit_type = data_frame_without_duplicates[\"deposit_type\"]\n",
        "meals = data_frame_without_duplicates[\"meal\"]\n",
        "cancelation = data_frame_without_duplicates[\"is_canceled\"]\n",
        "\n",
        "# Combine deposit_type and meals into a new DataFrame\n",
        "Deposit_meal_cancelation = pd.concat([deposit_type, meals,cancelation], axis=1)\n",
        "\n",
        "# Count occurrences of each category\n",
        "category_counts = Deposit_meal_cancelation.value_counts()\n",
        "\n",
        "category_counts.plot(kind=\"pie\", autopct=\"%1.1f%%\")\n",
        "\n",
        "\n"
      ],
      "metadata": {
        "id": "kuRf4wtuphqN"
      },
      "execution_count": null,
      "outputs": []
    },
    {
      "cell_type": "markdown",
      "source": [
        "\n",
        "\n",
        "Use the Series `map()` method.\n",
        "E.g. To filter by the length of a column values:"
      ],
      "metadata": {
        "id": "0kMYK2ySk_e9"
      }
    },
    {
      "cell_type": "markdown",
      "source": [
        "##### 1. Why did you pick the specific chart?"
      ],
      "metadata": {
        "id": "bbFf2-_FphqN"
      }
    },
    {
      "cell_type": "markdown",
      "source": [
        "To get how the proportionate combination of payment deposit type, meals type and bookings with no cancelation worked to define overall bookings.\n"
      ],
      "metadata": {
        "id": "loh7H2nzphqN"
      }
    },
    {
      "cell_type": "markdown",
      "source": [
        "57% of the booking without cancelation happened with BB meals inclusion with booking done with no deposits means might be booking directly through cash or bookings only for current facilitations with refund of some or other charges .\n",
        "Out of BB meals inclusive bookings,  19.7% were canceled . 7.6 % belonged to no deposit with HB meal booking without cancelation .\n",
        "7.0% belonged to SC meal with no deposit and full booking flow execution and 3.8% belong to canceled bookings with sc meal in which also no deposit was done.\n",
        "\n",
        "Other combination remianed below 3%\n"
      ],
      "metadata": {
        "id": "_ouA3fa0phqN"
      }
    },
    {
      "cell_type": "markdown",
      "source": [
        "Answer Here"
      ],
      "metadata": {
        "id": "VECbqPI7phqN"
      }
    },
    {
      "cell_type": "markdown",
      "source": [
        "##### 3. Will the gained insights help creating a positive business impact?\n",
        "Are there any insights that lead to negative growth? Justify with specific reason."
      ],
      "metadata": {
        "id": "Seke61FWphqN"
      }
    },
    {
      "cell_type": "markdown",
      "source": [
        "BB,HB and SC meals have positive business impact 57%, 7.6% and 7% and directly nothing is here that leads to negative business impact."
      ],
      "metadata": {
        "id": "DW4_bGpfphqN"
      }
    },
    {
      "cell_type": "markdown",
      "source": [
        "#### Chart - 7"
      ],
      "metadata": {
        "id": "PIIx-8_IphqN"
      }
    },
    {
      "cell_type": "code",
      "source": [
        "# Important description : To know room booked by market segment\n",
        "# Chart - 7 visualization code\n",
        "#what kind of rooms get asigned to which market segment\n",
        "# Extract text columns\n",
        "\n",
        "\n",
        "reserved_room = data_frame_without_duplicates[\"reserved_room_type\"]\n",
        "market_seg = data_frame_without_duplicates[\"market_segment\"]\n",
        "\n",
        "# Fix the error by using the correct variable name\n",
        "room_market_segment = pd.concat([reserved_room, market_seg], axis=1)\n",
        "\n",
        "# Count occurrences of each category\n",
        "category_counts = room_market_segment.value_counts()\n",
        "\n",
        "category_counts.plot(kind=\"pie\",autopct=\"%1.1f%%\")"
      ],
      "metadata": {
        "id": "lqAIGUfyphqO"
      },
      "execution_count": null,
      "outputs": []
    },
    {
      "cell_type": "markdown",
      "source": [
        "##### 1. Why did you pick the specific chart?"
      ],
      "metadata": {
        "id": "t27r6nlMphqO"
      }
    },
    {
      "cell_type": "markdown",
      "source": [
        "I utilized pie chart, to know linked way - which kind of room type and booking time lead to bookings"
      ],
      "metadata": {
        "id": "iv6ro40sphqO"
      }
    },
    {
      "cell_type": "markdown",
      "source": [
        "##### 2. What is/are the insight(s) found from the chart?"
      ],
      "metadata": {
        "id": "r2jJGEOYphqO"
      }
    },
    {
      "cell_type": "markdown",
      "source": [
        "The maximum bookings of 36.1 % came for A category room with online TA market segment , next booking of 13.6% came from D category online TA. Out of top 76% bookings maximum came for A room type."
      ],
      "metadata": {
        "id": "Po6ZPi4hphqO"
      }
    },
    {
      "cell_type": "markdown",
      "source": [
        "##### 3. Will the gained insights help creating a positive business impact?\n",
        "Are there any insights that lead to negative growth? Justify with specific reason."
      ],
      "metadata": {
        "id": "b0JNsNcRphqO"
      }
    },
    {
      "cell_type": "markdown",
      "source": [
        "A room type creates positive business impact in booking."
      ],
      "metadata": {
        "id": "xvSq8iUTphqO"
      }
    },
    {
      "cell_type": "markdown",
      "source": [
        "#### Chart - 8"
      ],
      "metadata": {
        "id": "BZR9WyysphqO"
      }
    },
    {
      "cell_type": "code",
      "source": [
        "#Important Description: To have customer type range and when\n",
        "#special bookings were done\n",
        "\n",
        "# Chart - 8 visualization code\n",
        "# what are customer types and their special requests\n",
        "# Extract the desired columns\n",
        "#customer_request = data_frame_without_duplicates[['customer_type', 'total_of_special_requests']]\n",
        "customer_request= data_frame_without_duplicates.groupby('customer_type')['total_of_special_requests'].count()\n",
        "\n",
        "# Create a Bar chart using plotly.graph_objects\n",
        "customer_request.hist()\n",
        "\n",
        "  #(x=customer_request['customer_type'], y=customer_request['total_of_special_requests'])\n",
        "\n",
        "\n",
        "# Print the extracted DataFrame\n",
        "print(customer_request)"
      ],
      "metadata": {
        "id": "TdPTWpAVphqO"
      },
      "execution_count": null,
      "outputs": []
    },
    {
      "cell_type": "markdown",
      "source": [
        "##### 1. Why did you pick the specific chart?"
      ],
      "metadata": {
        "id": "jj7wYXLtphqO"
      }
    },
    {
      "cell_type": "markdown",
      "source": [
        "To show distribution of special request variable based on customer type, here I have choosen histogram"
      ],
      "metadata": {
        "id": "Ob8u6rCTphqO"
      }
    },
    {
      "cell_type": "markdown",
      "source": [
        "##### 2. What is/are the insight(s) found from the chart?"
      ],
      "metadata": {
        "id": "eZrbJ2SmphqO"
      }
    },
    {
      "cell_type": "markdown",
      "source": [
        "Out of total customers, contract type customer did 2 special request maximum.\n",
        "Transient and transient party customers did 1 special request maximum.\n",
        "\n",
        "\n"
      ],
      "metadata": {
        "id": "mZtgC_hjphqO"
      }
    },
    {
      "cell_type": "markdown",
      "source": [
        "##### 3. Will the gained insights help creating a positive business impact?\n",
        "Are there any insights that lead to negative growth? Justify with specific reason."
      ],
      "metadata": {
        "id": "rFu4xreNphqO"
      }
    },
    {
      "cell_type": "markdown",
      "source": [
        "Contract customers created postive business impact of special requests.\n",
        "20,000 to 60,000 are unlucky bookings for the specific  business segment  as it has not created any postive impact in specific special bookings segment\n"
      ],
      "metadata": {
        "id": "ey_0qi68phqO"
      }
    },
    {
      "cell_type": "code",
      "source": [],
      "metadata": {
        "id": "UQ2zOKfej_8o"
      },
      "execution_count": null,
      "outputs": []
    },
    {
      "cell_type": "code",
      "source": [],
      "metadata": {
        "id": "2MtHZU_Yj_30"
      },
      "execution_count": null,
      "outputs": []
    },
    {
      "cell_type": "markdown",
      "source": [
        "#### Chart - 9"
      ],
      "metadata": {
        "id": "YJ55k-q6phqO"
      }
    },
    {
      "cell_type": "code",
      "source": [
        "# Chart - 9 visualization cod\n",
        "\n"
      ],
      "metadata": {
        "id": "B2aS4O1ophqO"
      },
      "execution_count": null,
      "outputs": []
    },
    {
      "cell_type": "markdown",
      "source": [
        "##### 1. Why did you pick the specific chart?"
      ],
      "metadata": {
        "id": "gCFgpxoyphqP"
      }
    },
    {
      "cell_type": "markdown",
      "source": [
        "Answer Here."
      ],
      "metadata": {
        "id": "TVxDimi2phqP"
      }
    },
    {
      "cell_type": "markdown",
      "source": [
        "##### 2. What is/are the insight(s) found from the chart?"
      ],
      "metadata": {
        "id": "OVtJsKN_phqQ"
      }
    },
    {
      "cell_type": "markdown",
      "source": [
        "Answer Here"
      ],
      "metadata": {
        "id": "ngGi97qjphqQ"
      }
    },
    {
      "cell_type": "markdown",
      "source": [
        "##### 3. Will the gained insights help creating a positive business impact?\n",
        "Are there any insights that lead to negative growth? Justify with specific reason."
      ],
      "metadata": {
        "id": "lssrdh5qphqQ"
      }
    },
    {
      "cell_type": "markdown",
      "source": [
        "Answer Here"
      ],
      "metadata": {
        "id": "tBpY5ekJphqQ"
      }
    },
    {
      "cell_type": "markdown",
      "source": [
        "#### Chart - 10"
      ],
      "metadata": {
        "id": "U2RJ9gkRphqQ"
      }
    },
    {
      "cell_type": "code",
      "source": [
        "# Chart - 10 visualization code"
      ],
      "metadata": {
        "id": "GM7a4YP4phqQ"
      },
      "execution_count": null,
      "outputs": []
    },
    {
      "cell_type": "markdown",
      "source": [
        "##### 1. Why did you pick the specific chart?"
      ],
      "metadata": {
        "id": "1M8mcRywphqQ"
      }
    },
    {
      "cell_type": "markdown",
      "source": [
        "Answer Here."
      ],
      "metadata": {
        "id": "8agQvks0phqQ"
      }
    },
    {
      "cell_type": "markdown",
      "source": [
        "##### 2. What is/are the insight(s) found from the chart?"
      ],
      "metadata": {
        "id": "tgIPom80phqQ"
      }
    },
    {
      "cell_type": "markdown",
      "source": [
        "Answer Here"
      ],
      "metadata": {
        "id": "Qp13pnNzphqQ"
      }
    },
    {
      "cell_type": "markdown",
      "source": [
        "##### 3. Will the gained insights help creating a positive business impact?\n",
        "Are there any insights that lead to negative growth? Justify with specific reason."
      ],
      "metadata": {
        "id": "JMzcOPDDphqR"
      }
    },
    {
      "cell_type": "markdown",
      "source": [
        "Answer Here"
      ],
      "metadata": {
        "id": "R4Ka1PC2phqR"
      }
    },
    {
      "cell_type": "markdown",
      "source": [
        "#### Chart - 11"
      ],
      "metadata": {
        "id": "x-EpHcCOp1ci"
      }
    },
    {
      "cell_type": "code",
      "source": [
        "# Chart - 11 visualization code"
      ],
      "metadata": {
        "id": "mAQTIvtqp1cj"
      },
      "execution_count": null,
      "outputs": []
    },
    {
      "cell_type": "markdown",
      "source": [
        "##### 1. Why did you pick the specific chart?"
      ],
      "metadata": {
        "id": "X_VqEhTip1ck"
      }
    },
    {
      "cell_type": "markdown",
      "source": [
        "Answer Here."
      ],
      "metadata": {
        "id": "-vsMzt_np1ck"
      }
    },
    {
      "cell_type": "markdown",
      "source": [
        "##### 2. What is/are the insight(s) found from the chart?"
      ],
      "metadata": {
        "id": "8zGJKyg5p1ck"
      }
    },
    {
      "cell_type": "markdown",
      "source": [
        "Answer Here"
      ],
      "metadata": {
        "id": "ZYdMsrqVp1ck"
      }
    },
    {
      "cell_type": "markdown",
      "source": [
        "##### 3. Will the gained insights help creating a positive business impact?\n",
        "Are there any insights that lead to negative growth? Justify with specific reason."
      ],
      "metadata": {
        "id": "PVzmfK_Ep1ck"
      }
    },
    {
      "cell_type": "markdown",
      "source": [
        "Answer Here"
      ],
      "metadata": {
        "id": "druuKYZpp1ck"
      }
    },
    {
      "cell_type": "markdown",
      "source": [
        "#### Chart - 12"
      ],
      "metadata": {
        "id": "n3dbpmDWp1ck"
      }
    },
    {
      "cell_type": "code",
      "source": [
        "# Chart - 12 visualization code"
      ],
      "metadata": {
        "id": "bwevp1tKp1ck"
      },
      "execution_count": null,
      "outputs": []
    },
    {
      "cell_type": "markdown",
      "source": [
        "##### 1. Why did you pick the specific chart?"
      ],
      "metadata": {
        "id": "ylSl6qgtp1ck"
      }
    },
    {
      "cell_type": "markdown",
      "source": [
        "Answer Here."
      ],
      "metadata": {
        "id": "m2xqNkiQp1ck"
      }
    },
    {
      "cell_type": "markdown",
      "source": [
        "##### 2. What is/are the insight(s) found from the chart?"
      ],
      "metadata": {
        "id": "ZWILFDl5p1ck"
      }
    },
    {
      "cell_type": "markdown",
      "source": [
        "Answer Here"
      ],
      "metadata": {
        "id": "x-lUsV2mp1ck"
      }
    },
    {
      "cell_type": "markdown",
      "source": [
        "##### 3. Will the gained insights help creating a positive business impact?\n",
        "Are there any insights that lead to negative growth? Justify with specific reason."
      ],
      "metadata": {
        "id": "M7G43BXep1ck"
      }
    },
    {
      "cell_type": "markdown",
      "source": [
        "Answer Here"
      ],
      "metadata": {
        "id": "5wwDJXsLp1cl"
      }
    },
    {
      "cell_type": "markdown",
      "source": [
        "#### Chart - 13"
      ],
      "metadata": {
        "id": "Ag9LCva-p1cl"
      }
    },
    {
      "cell_type": "code",
      "source": [
        "# Chart - 13 visualization code"
      ],
      "metadata": {
        "id": "EUfxeq9-p1cl"
      },
      "execution_count": null,
      "outputs": []
    },
    {
      "cell_type": "markdown",
      "source": [
        "##### 1. Why did you pick the specific chart?"
      ],
      "metadata": {
        "id": "E6MkPsBcp1cl"
      }
    },
    {
      "cell_type": "markdown",
      "source": [
        "Answer Here."
      ],
      "metadata": {
        "id": "V22bRsFWp1cl"
      }
    },
    {
      "cell_type": "markdown",
      "source": [
        "##### 2. What is/are the insight(s) found from the chart?"
      ],
      "metadata": {
        "id": "2cELzS2fp1cl"
      }
    },
    {
      "cell_type": "markdown",
      "source": [
        "Answer Here"
      ],
      "metadata": {
        "id": "ozQPc2_Ip1cl"
      }
    },
    {
      "cell_type": "markdown",
      "source": [
        "##### 3. Will the gained insights help creating a positive business impact?\n",
        "Are there any insights that lead to negative growth? Justify with specific reason."
      ],
      "metadata": {
        "id": "3MPXvC8up1cl"
      }
    },
    {
      "cell_type": "markdown",
      "source": [
        "Answer Here"
      ],
      "metadata": {
        "id": "GL8l1tdLp1cl"
      }
    },
    {
      "cell_type": "markdown",
      "source": [
        "#### Chart - 14 - Correlation Heatmap"
      ],
      "metadata": {
        "id": "NC_X3p0fY2L0"
      }
    },
    {
      "cell_type": "code",
      "source": [
        "\n"
      ],
      "metadata": {
        "id": "L0Z6P93lo-mC"
      },
      "execution_count": null,
      "outputs": []
    },
    {
      "cell_type": "markdown",
      "source": [
        "##### 1. Why did you pick the specific chart?"
      ],
      "metadata": {
        "id": "UV0SzAkaZNRQ"
      }
    },
    {
      "cell_type": "markdown",
      "source": [
        "Answer Here."
      ],
      "metadata": {
        "id": "DVPuT8LYZNRQ"
      }
    },
    {
      "cell_type": "markdown",
      "source": [
        "##### 2. What is/are the insight(s) found from the chart?"
      ],
      "metadata": {
        "id": "YPEH6qLeZNRQ"
      }
    },
    {
      "cell_type": "markdown",
      "source": [
        "Answer Here"
      ],
      "metadata": {
        "id": "bfSqtnDqZNRR"
      }
    },
    {
      "cell_type": "markdown",
      "source": [
        "#### Chart - 15 - Pair Plot"
      ],
      "metadata": {
        "id": "q29F0dvdveiT"
      }
    },
    {
      "cell_type": "code",
      "source": [
        "# Pair Plot visualization code"
      ],
      "metadata": {
        "id": "o58-TEIhveiU"
      },
      "execution_count": null,
      "outputs": []
    },
    {
      "cell_type": "markdown",
      "source": [
        "##### 1. Why did you pick the specific chart?"
      ],
      "metadata": {
        "id": "EXh0U9oCveiU"
      }
    },
    {
      "cell_type": "markdown",
      "source": [
        "Answer Here."
      ],
      "metadata": {
        "id": "eMmPjTByveiU"
      }
    },
    {
      "cell_type": "markdown",
      "source": [
        "##### 2. What is/are the insight(s) found from the chart?"
      ],
      "metadata": {
        "id": "22aHeOlLveiV"
      }
    },
    {
      "cell_type": "markdown",
      "source": [
        "Answer Here"
      ],
      "metadata": {
        "id": "uPQ8RGwHveiV"
      }
    },
    {
      "cell_type": "markdown",
      "source": [],
      "metadata": {
        "id": "oSVnDh6c1Pyy"
      }
    },
    {
      "cell_type": "markdown",
      "source": [
        "## **5. Solution to Business Objective**"
      ],
      "metadata": {
        "id": "JcMwzZxoAimU"
      }
    },
    {
      "cell_type": "markdown",
      "source": [
        "For best rate , would suggest to book when rate is 98.\n",
        "\n",
        "For best time of stay, would suggest to come in 16th of a month.\n",
        "\n",
        "Also would suggest dont expect any future special bookings except for 31st\n",
        "\n"
      ],
      "metadata": {
        "id": "8G2x9gOozGDZ"
      }
    },
    {
      "cell_type": "markdown",
      "source": [
        "Answer Here."
      ],
      "metadata": {
        "id": "pASKb0qOza21"
      }
    },
    {
      "cell_type": "markdown",
      "source": [
        "# **Conclusion**"
      ],
      "metadata": {
        "id": "gCX9965dhzqZ"
      }
    },
    {
      "cell_type": "markdown",
      "source": [
        "Overall confirmed bookings were more than canceled so assuming business will have business intact in future.\n",
        "Special bookings require more attention as it is only prevailing for 31st and can be expected for 31st only. Transient and transient party based special request can be designed to lure more.   \n",
        "\n",
        "For the adr suggestion, repeat cusotmers based rate should not be suggested as it is too less than average mean .\n",
        "\n",
        "Further work can be to know month of best time to stay, although with 50% confidence 16th remained the best day.\n",
        "\n",
        "\n",
        "\n",
        "\n",
        "\n",
        "\n",
        "\n",
        "\n"
      ],
      "metadata": {
        "id": "Fjb1IsQkh3yE"
      }
    },
    {
      "cell_type": "markdown",
      "source": [
        "### ***Hurrah! You have successfully completed your EDA Capstone Project !!!***"
      ],
      "metadata": {
        "id": "gIfDvo9L0UH2"
      }
    }
  ]
}